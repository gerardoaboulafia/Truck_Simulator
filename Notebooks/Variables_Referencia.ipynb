{
 "cells": [
  {
   "cell_type": "markdown",
   "id": "3b93b30a",
   "metadata": {},
   "source": [
    "# Simulación y procesos estocásticos | Caso DISTRIMAX\n",
    "## Análisis de variables de referencia\n",
    "------\n",
    "Aboulafia, Barquet, Lombardo, Vazquez"
   ]
  },
  {
   "cell_type": "code",
   "execution_count": 157,
   "id": "91f44c42",
   "metadata": {},
   "outputs": [],
   "source": [
    "import pandas as pd"
   ]
  },
  {
   "cell_type": "code",
   "execution_count": null,
   "id": "450a6f8b",
   "metadata": {},
   "outputs": [],
   "source": [
    "simu1 = pd.read_csv('sim_results_h1.csv')\n",
    "simu2 = pd.read_csv('sim_results_betas.csv') "
   ]
  },
  {
   "cell_type": "code",
   "execution_count": 159,
   "id": "663419b9",
   "metadata": {},
   "outputs": [
    {
     "name": "stdout",
     "output_type": "stream",
     "text": [
      "El simu1 tiene 600 filas y 14 columnas\n",
      "El simu2 tiene 2400 filas y 16 columnas\n"
     ]
    }
   ],
   "source": [
    "print(f\"El simu1 tiene {len(simu1)} filas y {len(simu1.columns)} columnas\")\n",
    "print(f\"El simu2 tiene {len(simu2)} filas y {len(simu2.columns)} columnas\")"
   ]
  },
  {
   "cell_type": "markdown",
   "id": "b4ac8e86",
   "metadata": {},
   "source": [
    "# Análisis de heurística 1"
   ]
  },
  {
   "cell_type": "markdown",
   "id": "919d9cd7",
   "metadata": {},
   "source": [
    "## Cantidad de semiacoplados por planta"
   ]
  },
  {
   "cell_type": "code",
   "execution_count": 160,
   "id": "4f90e858",
   "metadata": {},
   "outputs": [],
   "source": [
    "df_planta = simu1[simu1['entity'] == 'plant']"
   ]
  },
  {
   "cell_type": "code",
   "execution_count": null,
   "id": "1758fd55",
   "metadata": {},
   "outputs": [],
   "source": [
    "df_planta_mean = df_planta.groupby('plant')['delivered'].mean().reset_index()\n",
    "df_planta_std = df_planta.groupby('plant')['delivered'].std().reset_index"
   ]
  },
  {
   "cell_type": "code",
   "execution_count": 162,
   "id": "1881b840",
   "metadata": {},
   "outputs": [
    {
     "data": {
      "application/vnd.microsoft.datawrangler.viewer.v0+json": {
       "columns": [
        {
         "name": "index",
         "rawType": "int64",
         "type": "integer"
        },
        {
         "name": "plant",
         "rawType": "int64",
         "type": "integer"
        },
        {
         "name": "delivered",
         "rawType": "float64",
         "type": "float"
        }
       ],
       "ref": "6694e7d6-27e2-4de6-8d1b-051dc526a92e",
       "rows": [
        [
         "0",
         "1",
         "29.94"
        ],
        [
         "1",
         "2",
         "25.07"
        ],
        [
         "2",
         "3",
         "22.72"
        ]
       ],
       "shape": {
        "columns": 2,
        "rows": 3
       }
      },
      "text/html": [
       "<div>\n",
       "<style scoped>\n",
       "    .dataframe tbody tr th:only-of-type {\n",
       "        vertical-align: middle;\n",
       "    }\n",
       "\n",
       "    .dataframe tbody tr th {\n",
       "        vertical-align: top;\n",
       "    }\n",
       "\n",
       "    .dataframe thead th {\n",
       "        text-align: right;\n",
       "    }\n",
       "</style>\n",
       "<table border=\"1\" class=\"dataframe\">\n",
       "  <thead>\n",
       "    <tr style=\"text-align: right;\">\n",
       "      <th></th>\n",
       "      <th>plant</th>\n",
       "      <th>delivered</th>\n",
       "    </tr>\n",
       "  </thead>\n",
       "  <tbody>\n",
       "    <tr>\n",
       "      <th>0</th>\n",
       "      <td>1</td>\n",
       "      <td>29.94</td>\n",
       "    </tr>\n",
       "    <tr>\n",
       "      <th>1</th>\n",
       "      <td>2</td>\n",
       "      <td>25.07</td>\n",
       "    </tr>\n",
       "    <tr>\n",
       "      <th>2</th>\n",
       "      <td>3</td>\n",
       "      <td>22.72</td>\n",
       "    </tr>\n",
       "  </tbody>\n",
       "</table>\n",
       "</div>"
      ],
      "text/plain": [
       "   plant  delivered\n",
       "0      1      29.94\n",
       "1      2      25.07\n",
       "2      3      22.72"
      ]
     },
     "execution_count": 162,
     "metadata": {},
     "output_type": "execute_result"
    }
   ],
   "source": [
    "df_planta_mean"
   ]
  },
  {
   "cell_type": "code",
   "execution_count": null,
   "id": "6da825f9",
   "metadata": {},
   "outputs": [
    {
     "name": "stdout",
     "output_type": "stream",
     "text": [
      "Simu1 - Para la planta 1, la media es: 29.94 y la desviación estándar es: 0.9408785921958925\n",
      "Simu1 - Para la planta 2, la media es: 25.07 y la desviación estándar es: 0.497569851956243\n",
      "Simu1 - Para la planta 3, la media es: 22.72 y la desviación estándar es: 0.4512608598542128\n"
     ]
    }
   ],
   "source": [
    "df_planta_std = df_planta.groupby('plant')['delivered'].std().reset_index()\n",
    "\n",
    "print(f\"Simu1 - Para la planta 1, la media es: {df_planta_mean['delivered'][0]} y la desviación estándar es: {df_planta_std['delivered'][0]}\")\n",
    "print(f\"Simu1 - Para la planta 2, la media es: {df_planta_mean['delivered'][1]} y la desviación estándar es: {df_planta_std['delivered'][1]}\")\n",
    "print(f\"Simu1 - Para la planta 3, la media es: {df_planta_mean['delivered'][2]} y la desviación estándar es: {df_planta_std['delivered'][2]}\")"
   ]
  },
  {
   "cell_type": "code",
   "execution_count": null,
   "id": "9dd49906",
   "metadata": {},
   "outputs": [
    {
     "name": "stdout",
     "output_type": "stream",
     "text": [
      "Simu1 - Planta 1: Intervalo de confianza al 90%: [29.79, 30.09]\n",
      "Simu1 - Planta 2: Intervalo de confianza al 90%: [24.99, 25.15]\n",
      "Simu1 - Planta 3: Intervalo de confianza al 90%: [22.65, 22.79]\n"
     ]
    }
   ],
   "source": [
    "import numpy as np\n",
    "\n",
    "for i in range(3):\n",
    "    plant_num = i + 1\n",
    "    mean_val = df_planta_mean['delivered'][i]\n",
    "    std_val = df_planta_std['delivered'][i]\n",
    "    hw = 1.645 * std_val / np.sqrt(100)\n",
    "    lower = round(mean_val - hw, 2)\n",
    "    upper = round(mean_val + hw, 2)\n",
    "    print(f\"Simu1 - Planta {plant_num}: Intervalo de confianza al 90%: [{lower}, {upper}]\")"
   ]
  },
  {
   "cell_type": "markdown",
   "id": "ac9b73ad",
   "metadata": {},
   "source": [
    "## Cantidad de semiacoplados entregados"
   ]
  },
  {
   "cell_type": "code",
   "execution_count": null,
   "id": "77e0b6c0",
   "metadata": {},
   "outputs": [],
   "source": [
    "simu1['delivered'] = simu1['delivered'].astype(float)\n",
    "simu1['iter'] = simu1['iter'].astype(int)\n",
    "simu1_mean = simu1.groupby('iter').agg({'delivered': ['sum']\n",
    "                                    }).reset_index()\n",
    "simu1_mean.columns = ['iter', 'delivered_sum']\n",
    "simu1_mean['delivered_sum'] = simu1_mean['delivered_sum']/2"
   ]
  },
  {
   "cell_type": "code",
   "execution_count": null,
   "id": "67de59e4",
   "metadata": {},
   "outputs": [
    {
     "name": "stdout",
     "output_type": "stream",
     "text": [
      "Simu1 - Mean Delivered: 77.73, Std Dev: 1.3015530738469363\n"
     ]
    }
   ],
   "source": [
    "print(f\"Simu1 - Mean Delivered: {simu1_mean.delivered_sum.mean()}, Std Dev: {simu1_mean.delivered_sum.std()}\")"
   ]
  },
  {
   "cell_type": "code",
   "execution_count": null,
   "id": "12f036ec",
   "metadata": {},
   "outputs": [
    {
     "name": "stdout",
     "output_type": "stream",
     "text": [
      "Simu1 - 90% Confidence Interval: [77.51589451935219, 77.94410548064782]\n"
     ]
    }
   ],
   "source": [
    "HW = 1.645 * simu1_mean['delivered_sum'].std() / np.sqrt(100)\n",
    "print(f\"Simu1 - 90% Confidence Interval: [{simu1_mean.delivered_sum.mean() - HW}, {simu1_mean.delivered_sum.mean() + HW}]\")\n",
    " "
   ]
  },
  {
   "cell_type": "markdown",
   "id": "0243b176",
   "metadata": {},
   "source": [
    "## Minutos que esperaron por semiacoplados vacíos"
   ]
  },
  {
   "cell_type": "code",
   "execution_count": null,
   "id": "2d513a32",
   "metadata": {},
   "outputs": [],
   "source": [
    "simu1['iter'] = simu1['iter'].astype(int)\n",
    "simu1truck = simu1[simu1['entity'] == 'truck']\n",
    "simu1_mean = simu1truck.groupby('iter').agg({'wait_cd': ['mean']\n",
    "                                    }).reset_index()\n",
    "simu1_mean.columns = ['iter', 'wait_cd_sum']"
   ]
  },
  {
   "cell_type": "code",
   "execution_count": 206,
   "id": "375277b3",
   "metadata": {},
   "outputs": [
    {
     "name": "stdout",
     "output_type": "stream",
     "text": [
      "Simu1 - Mean Wait CD: 9.690192526506651, Std Dev: 6.055907885997421\n"
     ]
    }
   ],
   "source": [
    "print(f\"Simu1 - Mean Wait CD: {simu1_mean.wait_cd_sum.mean()}, Std Dev: {simu1_mean.wait_cd_sum.std()}\")"
   ]
  },
  {
   "cell_type": "code",
   "execution_count": 170,
   "id": "6c1f21ca",
   "metadata": {},
   "outputs": [
    {
     "name": "stdout",
     "output_type": "stream",
     "text": [
      "Simu1 - 90% Confidence Interval: [8.693995679260075, 10.686389373753228]\n"
     ]
    }
   ],
   "source": [
    "HW = 1.645 * simu1_mean['wait_cd_sum'].std() / np.sqrt(100)\n",
    "print(f\"Simu1 - 90% Confidence Interval: [{simu1_mean.wait_cd_sum.mean() - HW}, {simu1_mean.wait_cd_sum.mean() + HW}]\")"
   ]
  },
  {
   "cell_type": "markdown",
   "id": "5b90a65c",
   "metadata": {},
   "source": [
    "## Minutos que esperaron por semiacoplados llenos"
   ]
  },
  {
   "cell_type": "code",
   "execution_count": 171,
   "id": "6bd51e1a",
   "metadata": {},
   "outputs": [],
   "source": [
    "simu1_mean = simu1.groupby('iter').agg({'wait_pl': ['mean']\n",
    "                                    }).reset_index()\n",
    "simu1_mean.columns = ['iter', 'wait_pl_sum']"
   ]
  },
  {
   "cell_type": "code",
   "execution_count": 172,
   "id": "5c69fed2",
   "metadata": {},
   "outputs": [
    {
     "name": "stdout",
     "output_type": "stream",
     "text": [
      "Simu1 - Mean Wait PL: 0.9265506615470075, Std Dev: 0.4938245738639635\n"
     ]
    }
   ],
   "source": [
    "print(f\"Simu1 - Mean Wait PL: {simu1_mean.wait_pl_sum.mean()}, Std Dev: {simu1_mean.wait_pl_sum.std()}\")"
   ]
  },
  {
   "cell_type": "code",
   "execution_count": 173,
   "id": "80d8dc0a",
   "metadata": {},
   "outputs": [
    {
     "name": "stdout",
     "output_type": "stream",
     "text": [
      "Simu1 - 90% Confidence Interval: [0.8453165191463855, 1.0077848039476296]\n"
     ]
    }
   ],
   "source": [
    "HW = 1.645 * simu1_mean['wait_pl_sum'].std() / np.sqrt(100)\n",
    "print(f\"Simu1 - 90% Confidence Interval: [{simu1_mean.wait_pl_sum.mean() - HW}, {simu1_mean.wait_pl_sum.mean() + HW}]\")"
   ]
  },
  {
   "cell_type": "markdown",
   "id": "21a87d80",
   "metadata": {},
   "source": [
    "## Utilización promedio de camiones"
   ]
  },
  {
   "cell_type": "code",
   "execution_count": 174,
   "id": "a041f8b3",
   "metadata": {},
   "outputs": [],
   "source": [
    "simu1_mean = simu1.groupby('iter').agg({'util_%': ['mean']\n",
    "                                    }).reset_index()\n",
    "simu1_mean.columns = ['iter', 'util_sum']"
   ]
  },
  {
   "cell_type": "code",
   "execution_count": 175,
   "id": "96e016e4",
   "metadata": {},
   "outputs": [
    {
     "name": "stdout",
     "output_type": "stream",
     "text": [
      "Simu1 - Mean Utilization: 97.78810000000001, Std Dev: 1.2549351515388754\n"
     ]
    }
   ],
   "source": [
    "print(f\"Simu1 - Mean Utilization: {simu1_mean['util_sum'].mean()}, Std Dev: {simu1_mean['util_sum'].std()}\")"
   ]
  },
  {
   "cell_type": "code",
   "execution_count": 176,
   "id": "aa080910",
   "metadata": {},
   "outputs": [
    {
     "name": "stdout",
     "output_type": "stream",
     "text": [
      "Simu1 - 90% Confidence Interval: [97.58166316757188, 97.99453683242815]\n"
     ]
    }
   ],
   "source": [
    "HW = 1.645 * simu1_mean['util_sum'].std() / np.sqrt(100)\n",
    "print(f\"Simu1 - 90% Confidence Interval: [{simu1_mean.util_sum.mean() - HW}, {simu1_mean.util_sum.mean() + HW}]\")"
   ]
  },
  {
   "cell_type": "markdown",
   "id": "6a5f9521",
   "metadata": {},
   "source": [
    "# Análisis de heurística 2"
   ]
  },
  {
   "cell_type": "markdown",
   "id": "a855a309",
   "metadata": {},
   "source": [
    "## Análisis de camiones entregados por planta por β"
   ]
  },
  {
   "cell_type": "code",
   "execution_count": null,
   "id": "251cc67c",
   "metadata": {},
   "outputs": [
    {
     "name": "stdout",
     "output_type": "stream",
     "text": [
      "Media de trailers entregados por planta y β:\n"
     ]
    },
    {
     "data": {
      "application/vnd.microsoft.datawrangler.viewer.v0+json": {
       "columns": [
        {
         "name": "beta",
         "rawType": "float64",
         "type": "float"
        },
        {
         "name": "1",
         "rawType": "float64",
         "type": "float"
        },
        {
         "name": "2",
         "rawType": "float64",
         "type": "float"
        },
        {
         "name": "3",
         "rawType": "float64",
         "type": "float"
        }
       ],
       "ref": "f4f211b6-37e4-4504-913d-bbcc4ddee9b4",
       "rows": [
        [
         "0.0",
         "28.64",
         "25.58",
         "23.32"
        ],
        [
         "0.5",
         "28.24",
         "25.03",
         "24.46"
        ],
        [
         "1.0",
         "27.9",
         "25.3",
         "24.53"
        ],
        [
         "2.0",
         "27.69",
         "25.44",
         "24.75"
        ]
       ],
       "shape": {
        "columns": 3,
        "rows": 4
       }
      },
      "text/html": [
       "<div>\n",
       "<style scoped>\n",
       "    .dataframe tbody tr th:only-of-type {\n",
       "        vertical-align: middle;\n",
       "    }\n",
       "\n",
       "    .dataframe tbody tr th {\n",
       "        vertical-align: top;\n",
       "    }\n",
       "\n",
       "    .dataframe thead th {\n",
       "        text-align: right;\n",
       "    }\n",
       "</style>\n",
       "<table border=\"1\" class=\"dataframe\">\n",
       "  <thead>\n",
       "    <tr style=\"text-align: right;\">\n",
       "      <th>plant</th>\n",
       "      <th>1</th>\n",
       "      <th>2</th>\n",
       "      <th>3</th>\n",
       "    </tr>\n",
       "    <tr>\n",
       "      <th>beta</th>\n",
       "      <th></th>\n",
       "      <th></th>\n",
       "      <th></th>\n",
       "    </tr>\n",
       "  </thead>\n",
       "  <tbody>\n",
       "    <tr>\n",
       "      <th>0.0</th>\n",
       "      <td>28.64</td>\n",
       "      <td>25.58</td>\n",
       "      <td>23.32</td>\n",
       "    </tr>\n",
       "    <tr>\n",
       "      <th>0.5</th>\n",
       "      <td>28.24</td>\n",
       "      <td>25.03</td>\n",
       "      <td>24.46</td>\n",
       "    </tr>\n",
       "    <tr>\n",
       "      <th>1.0</th>\n",
       "      <td>27.90</td>\n",
       "      <td>25.30</td>\n",
       "      <td>24.53</td>\n",
       "    </tr>\n",
       "    <tr>\n",
       "      <th>2.0</th>\n",
       "      <td>27.69</td>\n",
       "      <td>25.44</td>\n",
       "      <td>24.75</td>\n",
       "    </tr>\n",
       "  </tbody>\n",
       "</table>\n",
       "</div>"
      ],
      "text/plain": [
       "plant      1      2      3\n",
       "beta                      \n",
       "0.0    28.64  25.58  23.32\n",
       "0.5    28.24  25.03  24.46\n",
       "1.0    27.90  25.30  24.53\n",
       "2.0    27.69  25.44  24.75"
      ]
     },
     "metadata": {},
     "output_type": "display_data"
    },
    {
     "name": "stdout",
     "output_type": "stream",
     "text": [
      "\n",
      "Desvío estándar por planta y β:\n"
     ]
    },
    {
     "data": {
      "application/vnd.microsoft.datawrangler.viewer.v0+json": {
       "columns": [
        {
         "name": "beta",
         "rawType": "float64",
         "type": "float"
        },
        {
         "name": "1",
         "rawType": "float64",
         "type": "float"
        },
        {
         "name": "2",
         "rawType": "float64",
         "type": "float"
        },
        {
         "name": "3",
         "rawType": "float64",
         "type": "float"
        }
       ],
       "ref": "87ae3638-2f22-4b8d-860e-3b286491cd1a",
       "rows": [
        [
         "0.0",
         "1.3522894914502852",
         "0.7410066862659939",
         "1.270329631921327"
        ],
        [
         "0.5",
         "1.0835780609358123",
         "0.4370470237973268",
         "0.5397343154859915"
        ],
        [
         "1.0",
         "0.8226589066968624",
         "0.5773502691896258",
         "0.5938234271450251"
        ],
        [
         "2.0",
         "0.6307763374436197",
         "0.6083592771553752",
         "0.5924610544247628"
        ]
       ],
       "shape": {
        "columns": 3,
        "rows": 4
       }
      },
      "text/html": [
       "<div>\n",
       "<style scoped>\n",
       "    .dataframe tbody tr th:only-of-type {\n",
       "        vertical-align: middle;\n",
       "    }\n",
       "\n",
       "    .dataframe tbody tr th {\n",
       "        vertical-align: top;\n",
       "    }\n",
       "\n",
       "    .dataframe thead th {\n",
       "        text-align: right;\n",
       "    }\n",
       "</style>\n",
       "<table border=\"1\" class=\"dataframe\">\n",
       "  <thead>\n",
       "    <tr style=\"text-align: right;\">\n",
       "      <th>plant</th>\n",
       "      <th>1</th>\n",
       "      <th>2</th>\n",
       "      <th>3</th>\n",
       "    </tr>\n",
       "    <tr>\n",
       "      <th>beta</th>\n",
       "      <th></th>\n",
       "      <th></th>\n",
       "      <th></th>\n",
       "    </tr>\n",
       "  </thead>\n",
       "  <tbody>\n",
       "    <tr>\n",
       "      <th>0.0</th>\n",
       "      <td>1.352289</td>\n",
       "      <td>0.741007</td>\n",
       "      <td>1.270330</td>\n",
       "    </tr>\n",
       "    <tr>\n",
       "      <th>0.5</th>\n",
       "      <td>1.083578</td>\n",
       "      <td>0.437047</td>\n",
       "      <td>0.539734</td>\n",
       "    </tr>\n",
       "    <tr>\n",
       "      <th>1.0</th>\n",
       "      <td>0.822659</td>\n",
       "      <td>0.577350</td>\n",
       "      <td>0.593823</td>\n",
       "    </tr>\n",
       "    <tr>\n",
       "      <th>2.0</th>\n",
       "      <td>0.630776</td>\n",
       "      <td>0.608359</td>\n",
       "      <td>0.592461</td>\n",
       "    </tr>\n",
       "  </tbody>\n",
       "</table>\n",
       "</div>"
      ],
      "text/plain": [
       "plant         1         2         3\n",
       "beta                               \n",
       "0.0    1.352289  0.741007  1.270330\n",
       "0.5    1.083578  0.437047  0.539734\n",
       "1.0    0.822659  0.577350  0.593823\n",
       "2.0    0.630776  0.608359  0.592461"
      ]
     },
     "metadata": {},
     "output_type": "display_data"
    }
   ],
   "source": [
    "df_planta = simu2[simu2['entity'] == 'plant']\n",
    "\n",
    "resumen = (\n",
    "    df_planta\n",
    "      .groupby([\"beta\", \"plant\"])[\"delivered\"]\n",
    "      .agg(media=\"mean\", desvio=\"std\")\n",
    "      .reset_index()\n",
    ")\n",
    "\n",
    "tabla_pivote = resumen.pivot(index=\"beta\", columns=\"plant\", values=\"media\")\n",
    "tabla_pivote_std = resumen.pivot(index=\"beta\", columns=\"plant\", values=\"desvio\")\n",
    "\n",
    "print(\"Media de trailers entregados por planta y β:\")\n",
    "display(tabla_pivote)\n",
    "\n",
    "print(\"\\nDesvío estándar por planta y β:\")\n",
    "display(tabla_pivote_std)"
   ]
  },
  {
   "cell_type": "code",
   "execution_count": null,
   "id": "973814a6",
   "metadata": {},
   "outputs": [
    {
     "name": "stdout",
     "output_type": "stream",
     "text": [
      "Beta: 0.0, Planta: 1 - Intervalo de confianza al 90%: [28.417548378656427, 28.862451621343574]\n",
      "Beta: 0.0, Planta: 2 - Intervalo de confianza al 90%: [25.458104400109242, 25.701895599890754]\n",
      "Beta: 0.0, Planta: 3 - Intervalo de confianza al 90%: [23.111030775548944, 23.528969224451057]\n",
      "Beta: 0.5, Planta: 1 - Intervalo de confianza al 90%: [28.061751408976058, 28.41824859102394]\n",
      "Beta: 0.5, Planta: 2 - Intervalo de confianza al 90%: [24.95810576458534, 25.10189423541466]\n",
      "Beta: 0.5, Planta: 3 - Intervalo de confianza al 90%: [24.371213705102555, 24.548786294897447]\n",
      "Beta: 1.0, Planta: 1 - Intervalo de confianza al 90%: [27.764672609848365, 28.035327390151632]\n",
      "Beta: 1.0, Planta: 2 - Intervalo de confianza al 90%: [25.205025880718306, 25.394974119281695]\n",
      "Beta: 1.0, Planta: 3 - Intervalo de confianza al 90%: [24.432316046234643, 24.62768395376536]\n",
      "Beta: 2.0, Planta: 1 - Intervalo de confianza al 90%: [27.586237292490527, 27.793762707509476]\n",
      "Beta: 2.0, Planta: 2 - Intervalo de confianza al 90%: [25.33992489890794, 25.54007510109206]\n",
      "Beta: 2.0, Planta: 3 - Intervalo de confianza al 90%: [24.652540156547126, 24.847459843452874]\n"
     ]
    }
   ],
   "source": [
    "for beta in df_planta['beta'].unique():\n",
    "    for plant in df_planta['plant'].unique():\n",
    "        media = tabla_pivote.loc[beta, plant]\n",
    "        desvio = tabla_pivote_std.loc[beta, plant]\n",
    "        n = df_planta[(df_planta['beta'] == beta) & (df_planta['plant'] == plant)].shape[0]\n",
    "        \n",
    "        if n > 0:\n",
    "            HW = 1.645 * desvio / (n ** 0.5)\n",
    "            print(f\"Beta: {beta}, Planta: {plant} - Intervalo de confianza al 90%: [{media - HW}, {media + HW}]\")"
   ]
  },
  {
   "cell_type": "code",
   "execution_count": null,
   "id": "bd2b67b5",
   "metadata": {},
   "outputs": [
    {
     "data": {
      "image/png": "[encoded data removed]",
      "text/plain": [
       "<Figure size 864x576 with 1 Axes>"
      ]
     },
     "metadata": {
      "needs_background": "light"
     },
     "output_type": "display_data"
    }
   ],
   "source": [
    "import numpy as np\n",
    "import matplotlib.pyplot as plt\n",
    "\n",
    "fig, ax = plt.subplots(figsize=(12, 8))\n",
    "\n",
    "resumen[\"HW\"] = 1.645 * resumen[\"desvio\"] / np.sqrt(100)\n",
    "\n",
    "plants = sorted(resumen[\"plant\"].unique())\n",
    "plant_pos = np.arange(len(plants))           \n",
    "betas = sorted(resumen[\"beta\"].unique())\n",
    "offsets = np.linspace(-0.15, 0.15, len(betas))\n",
    "\n",
    "palette = plt.cm.viridis(np.linspace(0.15, 0.85, len(betas)))  \n",
    "\n",
    "for i, beta in enumerate(betas):\n",
    "    sub = (resumen[resumen[\"beta\"] == beta]\n",
    "                  .sort_values(\"plant\"))      \n",
    "    x = plant_pos + offsets[i]\n",
    "    y = sub[\"media\"].values\n",
    "    hw = sub[\"HW\"].values\n",
    "\n",
    "    ax.scatter(x, y, s=30, color=palette[i], label=f\"β = {beta}\", zorder=3)\n",
    "    ax.vlines(x, y - hw, y + hw, color=palette[i], linewidth=1, zorder=2)\n",
    "\n",
    "ax.set_xticks(plant_pos)\n",
    "ax.set_xticklabels(plants)\n",
    "ax.set_xlabel(\"Planta\")\n",
    "ax.set_ylabel(\"Trailers entregados (media)\")\n",
    "ax.set_title(\"Media e IC 90% por β\")\n",
    "ax.grid(axis=\"y\", linestyle=\"--\", alpha=0.3)\n",
    "ax.legend(title=r\"$\\beta$\")\n",
    "plt.tight_layout()\n",
    "plt.show()"
   ]
  },
  {
   "cell_type": "markdown",
   "id": "042d4c9f",
   "metadata": {},
   "source": [
    "## Cantidad de semiacoplados entregados totales por β"
   ]
  },
  {
   "cell_type": "code",
   "execution_count": null,
   "id": "43be1a27",
   "metadata": {},
   "outputs": [
    {
     "name": "stdout",
     "output_type": "stream",
     "text": [
      "   beta  media    desvio\n",
      "0   0.0  77.54  1.417210\n",
      "1   0.5  77.73  1.462356\n",
      "2   1.0  77.73  1.441485\n",
      "3   2.0  77.88  1.289272\n"
     ]
    }
   ],
   "source": [
    "totales_run = (\n",
    "    df_planta\n",
    "      .groupby([\"beta\", \"iter\"])[\"delivered\"]\n",
    "      .sum()\n",
    "      .reset_index(name=\"delivered_total\")\n",
    ")\n",
    "\n",
    "stats_totales = (\n",
    "    totales_run\n",
    "      .groupby(\"beta\")[\"delivered_total\"]\n",
    "      .agg(media=\"mean\", desvio=\"std\")\n",
    "      .reset_index()\n",
    ")\n",
    "\n",
    "print(stats_totales)"
   ]
  },
  {
   "cell_type": "code",
   "execution_count": null,
   "id": "2acd2836",
   "metadata": {},
   "outputs": [
    {
     "data": {
      "image/png": "[encoded data removed]",
      "text/plain": [
       "<Figure size 864x576 with 1 Axes>"
      ]
     },
     "metadata": {
      "needs_background": "light"
     },
     "output_type": "display_data"
    }
   ],
   "source": [
    "import numpy as np\n",
    "import matplotlib.pyplot as plt\n",
    "\n",
    "n_por_beta = (\n",
    "    totales_run\n",
    "      .groupby(\"beta\")[\"delivered_total\"]\n",
    "      .count()\n",
    "      .reset_index(name=\"n\")\n",
    ")\n",
    "\n",
    "stats_totales = stats_totales.merge(n_por_beta, on=\"beta\")\n",
    "\n",
    "stats_totales[\"HW\"] = 1.645 * stats_totales[\"desvio\"] / np.sqrt(100)\n",
    "\n",
    "fig, ax = plt.subplots()\n",
    "\n",
    "betas = sorted(stats_totales[\"beta\"])\n",
    "x_pos = np.arange(len(betas))                             \n",
    "palette = plt.cm.viridis(np.linspace(0.15, 0.85, len(betas)))\n",
    "\n",
    "for i, beta in enumerate(betas):\n",
    "    media = stats_totales.loc[stats_totales[\"beta\"] == beta, \"media\"].values[0]\n",
    "    hw    = stats_totales.loc[stats_totales[\"beta\"] == beta, \"HW\"].values[0]\n",
    "\n",
    "    ax.scatter(x_pos[i], media, s=30, color=palette[i], label=f\"β = {beta}\", zorder=3)\n",
    "    ax.vlines(x_pos[i], media - hw, media + hw, color=palette[i], linewidth=1, zorder=2)\n",
    "\n",
    "fig.set_size_inches(12, 8)  \n",
    "ax.set_xticks(x_pos)\n",
    "ax.set_xticklabels(betas)\n",
    "ax.set_xlabel(r\"$\\beta$\")\n",
    "ax.set_ylabel(\"Trailers entregados total (media)\")\n",
    "ax.set_title(\"Total entregado e IC 90 % por β\")\n",
    "ax.grid(axis=\"y\", linestyle=\"--\", alpha=0.3)\n",
    "ax.legend(title=r\"$\\beta$\", loc='upper left')\n",
    "plt.tight_layout()\n",
    "plt.show()"
   ]
  },
  {
   "cell_type": "markdown",
   "id": "e4e41b7e",
   "metadata": {},
   "source": [
    "## Minutos que esperaron por semiacoplados vacíos y llenos"
   ]
  },
  {
   "cell_type": "code",
   "execution_count": 187,
   "id": "a4ba7fd3",
   "metadata": {},
   "outputs": [],
   "source": [
    "df_truck = simu2[simu2['entity'] == 'truck']"
   ]
  },
  {
   "cell_type": "code",
   "execution_count": null,
   "id": "20aff27c",
   "metadata": {},
   "outputs": [
    {
     "name": "stdout",
     "output_type": "stream",
     "text": [
      "Tiempo promedio de espera por camión (min) — media ± desvío\n",
      "     wait_pl       wait_cd      \n",
      "        mean   std    mean   std\n",
      "beta                            \n",
      "0.0     6.99  4.82    7.96  6.44\n",
      "0.5     4.00  2.68    9.28  6.33\n",
      "1.0     3.28  2.40    9.24  6.27\n",
      "2.0     2.34  2.13    8.86  5.73\n"
     ]
    }
   ],
   "source": [
    "promedio_run = (\n",
    "    df_truck\n",
    "      .groupby([\"beta\", \"iter\"])[[\"wait_pl\", \"wait_cd\"]]\n",
    "      .mean()                      \n",
    "      .reset_index()\n",
    ")\n",
    "\n",
    "stats_wait = (\n",
    "    promedio_run\n",
    "      .groupby(\"beta\")[[\"wait_pl\", \"wait_cd\"]]\n",
    "      .agg({'wait_pl': ['mean', 'std'], 'wait_cd': ['mean', 'std']})\n",
    "      .round(2)                    \n",
    ")\n",
    "\n",
    "print(\"Tiempo promedio de espera por camión (min) — media ± desvío\")\n",
    "print(stats_wait)"
   ]
  },
  {
   "cell_type": "code",
   "execution_count": null,
   "id": "4f09e041",
   "metadata": {},
   "outputs": [
    {
     "data": {
      "image/png": "[encoded data removed]",
      "text/plain": [
       "<Figure size 864x576 with 1 Axes>"
      ]
     },
     "metadata": {
      "needs_background": "light"
     },
     "output_type": "display_data"
    },
    {
     "data": {
      "image/png": "[encoded data removed]",
      "text/plain": [
       "<Figure size 864x576 with 1 Axes>"
      ]
     },
     "metadata": {
      "needs_background": "light"
     },
     "output_type": "display_data"
    }
   ],
   "source": [
    "import numpy as np\n",
    "import matplotlib.pyplot as plt\n",
    "\n",
    "n_runs = (\n",
    "    promedio_run\n",
    "      .groupby(\"beta\")\n",
    "      .size()\n",
    "      .reset_index(name=\"n\")\n",
    ")\n",
    "\n",
    "stats_wait = stats_wait.copy()            \n",
    "stats_wait.columns = ['wait_pl_mean', 'wait_pl_std',\n",
    "                      'wait_cd_mean', 'wait_cd_std']\n",
    "stats_wait = stats_wait.reset_index().merge(n_runs, on=\"beta\")\n",
    "\n",
    "for col in ['wait_pl', 'wait_cd']:\n",
    "    stats_wait[f'{col}_HW'] = (\n",
    "        1.645 * stats_wait[f'{col}_std'] / np.sqrt(stats_wait['n'])\n",
    "    )\n",
    "\n",
    "palette = plt.cm.viridis(np.linspace(0.15, 0.85, len(stats_wait)))\n",
    "x_pos   = np.arange(len(stats_wait))       \n",
    "\n",
    "def plot_wait(metric, ylabel, title):\n",
    "    fig, ax = plt.subplots(figsize=(12, 8))  \n",
    "\n",
    "    means = stats_wait[f'{metric}_mean']\n",
    "    hws   = stats_wait[f'{metric}_HW']\n",
    "\n",
    "    ax.scatter(x_pos, means, s=100, color=palette, zorder=3)\n",
    "    ax.vlines(x_pos, means - hws, means + hws, color=palette, linewidth=2, zorder=2)\n",
    "\n",
    "    ax.set_xticks(x_pos)\n",
    "    ax.set_xticklabels(stats_wait['beta'])\n",
    "    ax.set_xlabel(r\"$\\beta$\", fontsize=12)\n",
    "    ax.set_ylabel(ylabel, fontsize=12)\n",
    "    ax.set_title(title, fontsize=14)\n",
    "    ax.grid(axis=\"y\", linestyle=\"--\", alpha=0.3)\n",
    "    ax.tick_params(axis='both', which='major', labelsize=11)\n",
    "    plt.tight_layout()\n",
    "    plt.show()\n",
    "\n",
    "# --- 4) Graficar ------------------------------------------------------\n",
    "plot_wait('wait_pl', \"Espera en planta (min) — media\", \"Media e IC 90 % de espera en planta por β\")\n",
    "plot_wait('wait_cd', \"Espera en CD (min) — media\",     \"Media e IC 90 % de espera en CD por β\")"
   ]
  },
  {
   "cell_type": "markdown",
   "id": "c34bb707",
   "metadata": {},
   "source": [
    "## Utilización de camiones"
   ]
  },
  {
   "cell_type": "code",
   "execution_count": null,
   "id": "685bfddc",
   "metadata": {},
   "outputs": [
    {
     "name": "stdout",
     "output_type": "stream",
     "text": [
      "   beta      media    desvio\n",
      "0   0.0  96.884633  1.370205\n",
      "1   0.5  97.233100  1.443922\n",
      "2   1.0  97.392167  1.487550\n",
      "3   2.0  97.668233  1.391985\n"
     ]
    }
   ],
   "source": [
    "util_run = (\n",
    "    df_truck\n",
    "      .groupby([\"beta\", \"iter\"])[\"util_%\"]\n",
    "      .mean()              \n",
    "      .reset_index(name=\"util_mean_run\")\n",
    ")\n",
    "\n",
    "stats_util = (\n",
    "    util_run\n",
    "      .groupby(\"beta\")[\"util_mean_run\"]\n",
    "      .agg(media=\"mean\", desvio=\"std\")\n",
    "      .reset_index()\n",
    ")\n",
    "\n",
    "print(stats_util)"
   ]
  },
  {
   "cell_type": "code",
   "execution_count": null,
   "id": "cf4dc50f",
   "metadata": {},
   "outputs": [
    {
     "data": {
      "image/png": "[encoded data removed]",
      "text/plain": [
       "<Figure size 864x576 with 1 Axes>"
      ]
     },
     "metadata": {
      "needs_background": "light"
     },
     "output_type": "display_data"
    }
   ],
   "source": [
    "import numpy as np\n",
    "import matplotlib.pyplot as plt\n",
    "\n",
    "n_util = (\n",
    "    util_run\n",
    "      .groupby(\"beta\")\n",
    "      .size()\n",
    "      .reset_index(name=\"n\")\n",
    ")\n",
    "\n",
    "stats_util = stats_util.merge(n_util, on=\"beta\")\n",
    "stats_util[\"HW\"] = 1.645 * stats_util[\"desvio\"] / np.sqrt(stats_util[\"n\"])\n",
    "\n",
    "fig, ax = plt.subplots()\n",
    "\n",
    "betas  = sorted(stats_util[\"beta\"])\n",
    "x_pos  = np.arange(len(betas))\n",
    "palette = plt.cm.viridis(np.linspace(0.15, 0.85, len(betas)))\n",
    "\n",
    "for i, beta in enumerate(betas):\n",
    "    media = stats_util.loc[stats_util[\"beta\"] == beta, \"media\"].values[0]\n",
    "    hw    = stats_util.loc[stats_util[\"beta\"] == beta, \"HW\"].values[0]\n",
    "\n",
    "    ax.scatter(x_pos[i], media, s=30, color=palette[i], zorder=3)\n",
    "    ax.vlines(x_pos[i], media - hw, media + hw, color=palette[i],\n",
    "              linewidth=1, zorder=2)\n",
    "\n",
    "fig.set_size_inches(12, 8)  \n",
    "ax.set_xticks(x_pos)\n",
    "ax.set_xticklabels(betas)\n",
    "ax.set_xlabel(r\"$\\beta$\")\n",
    "ax.set_ylabel(\"Utilización promedio (%)\")\n",
    "ax.set_title(\"Utilización e IC 90 % por β\")\n",
    "ax.grid(axis=\"y\", linestyle=\"--\", alpha=0.3)\n",
    "plt.tight_layout()\n",
    "plt.show()"
   ]
  },
  {
   "cell_type": "markdown",
   "id": "14da95c5",
   "metadata": {},
   "source": [
    "# Análisis de escenario 3: Heurística 2 con 4 camiones"
   ]
  },
  {
   "cell_type": "code",
   "execution_count": 210,
   "id": "f2fbfc07",
   "metadata": {},
   "outputs": [
    {
     "data": {
      "application/vnd.microsoft.datawrangler.viewer.v0+json": {
       "columns": [
        {
         "name": "index",
         "rawType": "int64",
         "type": "integer"
        },
        {
         "name": "entity",
         "rawType": "object",
         "type": "string"
        },
        {
         "name": "iter",
         "rawType": "int64",
         "type": "integer"
        },
        {
         "name": "beta",
         "rawType": "float64",
         "type": "float"
        },
        {
         "name": "truck",
         "rawType": "float64",
         "type": "float"
        },
        {
         "name": "plant",
         "rawType": "int64",
         "type": "integer"
        },
        {
         "name": "trips",
         "rawType": "float64",
         "type": "float"
        },
        {
         "name": "delivered",
         "rawType": "int64",
         "type": "integer"
        },
        {
         "name": "selected",
         "rawType": "int64",
         "type": "integer"
        },
        {
         "name": "wait_pl",
         "rawType": "float64",
         "type": "float"
        },
        {
         "name": "wait_cd",
         "rawType": "float64",
         "type": "float"
        },
        {
         "name": "no_empty",
         "rawType": "float64",
         "type": "float"
        },
        {
         "name": "no_full",
         "rawType": "float64",
         "type": "float"
        },
        {
         "name": "util_%",
         "rawType": "float64",
         "type": "float"
        }
       ],
       "ref": "297c6111-4e64-4dc6-85de-e3d1dc711a68",
       "rows": [
        [
         "0",
         "truck",
         "0",
         "0.0",
         "1.0",
         "1",
         "15.0",
         "30",
         "30",
         "119.43",
         "0.0",
         "0.0",
         "11.0",
         "75.12"
        ],
        [
         "1",
         "truck",
         "0",
         "0.0",
         "2.0",
         "2",
         "16.0",
         "22",
         "21",
         "86.57",
         "0.0",
         "0.0",
         "8.0",
         "81.96"
        ],
        [
         "2",
         "truck",
         "0",
         "0.0",
         "3.0",
         "3",
         "16.0",
         "11",
         "12",
         "84.16",
         "1.81",
         "3.0",
         "8.0",
         "82.09"
        ],
        [
         "3",
         "truck",
         "0",
         "0.0",
         "4.0",
         "1",
         "16.0",
         "30",
         "30",
         "72.12",
         "0.0",
         "0.0",
         "6.0",
         "84.98"
        ],
        [
         "4",
         "plant",
         "0",
         "0.0",
         null,
         "1",
         null,
         "30",
         "30",
         null,
         null,
         null,
         null,
         null
        ],
        [
         "5",
         "plant",
         "0",
         "0.0",
         null,
         "2",
         null,
         "22",
         "21",
         null,
         null,
         null,
         null,
         null
        ],
        [
         "6",
         "plant",
         "0",
         "0.0",
         null,
         "3",
         null,
         "11",
         "12",
         null,
         null,
         null,
         null,
         null
        ],
        [
         "7",
         "truck",
         "1",
         "0.0",
         "1.0",
         "1",
         "16.0",
         "28",
         "28",
         "59.82",
         "0.0",
         "0.0",
         "6.0",
         "87.54"
        ],
        [
         "8",
         "truck",
         "1",
         "0.0",
         "2.0",
         "2",
         "15.0",
         "20",
         "20",
         "100.57",
         "0.0",
         "0.0",
         "7.0",
         "79.05"
        ],
        [
         "9",
         "truck",
         "1",
         "0.0",
         "3.0",
         "3",
         "15.0",
         "13",
         "14",
         "138.73",
         "2.92",
         "3.0",
         "11.0",
         "70.49"
        ],
        [
         "10",
         "truck",
         "1",
         "0.0",
         "4.0",
         "1",
         "16.0",
         "28",
         "28",
         "71.43",
         "0.0",
         "0.0",
         "6.0",
         "85.12"
        ],
        [
         "11",
         "plant",
         "1",
         "0.0",
         null,
         "1",
         null,
         "28",
         "28",
         null,
         null,
         null,
         null,
         null
        ],
        [
         "12",
         "plant",
         "1",
         "0.0",
         null,
         "2",
         null,
         "20",
         "20",
         null,
         null,
         null,
         null,
         null
        ],
        [
         "13",
         "plant",
         "1",
         "0.0",
         null,
         "3",
         null,
         "13",
         "14",
         null,
         null,
         null,
         null,
         null
        ],
        [
         "14",
         "truck",
         "2",
         "0.0",
         "1.0",
         "1",
         "16.0",
         "29",
         "29",
         "96.71",
         "0.0",
         "0.0",
         "8.0",
         "79.85"
        ],
        [
         "15",
         "truck",
         "2",
         "0.0",
         "2.0",
         "2",
         "15.0",
         "18",
         "19",
         "119.7",
         "5.8",
         "3.0",
         "10.0",
         "73.86"
        ],
        [
         "16",
         "truck",
         "2",
         "0.0",
         "3.0",
         "3",
         "17.0",
         "15",
         "15",
         "27.46",
         "0.0",
         "0.0",
         "2.0",
         "94.28"
        ],
        [
         "17",
         "truck",
         "2",
         "0.0",
         "4.0",
         "1",
         "15.0",
         "29",
         "29",
         "110.99",
         "0.0",
         "0.0",
         "9.0",
         "76.88"
        ],
        [
         "18",
         "plant",
         "2",
         "0.0",
         null,
         "1",
         null,
         "29",
         "29",
         null,
         null,
         null,
         null,
         null
        ],
        [
         "19",
         "plant",
         "2",
         "0.0",
         null,
         "2",
         null,
         "18",
         "19",
         null,
         null,
         null,
         null,
         null
        ],
        [
         "20",
         "plant",
         "2",
         "0.0",
         null,
         "3",
         null,
         "15",
         "15",
         null,
         null,
         null,
         null,
         null
        ],
        [
         "21",
         "truck",
         "3",
         "0.0",
         "1.0",
         "1",
         "16.0",
         "30",
         "30",
         "84.22",
         "0.0",
         "0.0",
         "7.0",
         "82.45"
        ],
        [
         "22",
         "truck",
         "3",
         "0.0",
         "2.0",
         "2",
         "15.0",
         "19",
         "19",
         "113.49",
         "4.53",
         "2.0",
         "10.0",
         "75.41"
        ],
        [
         "23",
         "truck",
         "3",
         "0.0",
         "3.0",
         "3",
         "15.0",
         "13",
         "13",
         "103.15",
         "0.0",
         "0.0",
         "9.0",
         "78.51"
        ],
        [
         "24",
         "truck",
         "3",
         "0.0",
         "4.0",
         "1",
         "16.0",
         "30",
         "30",
         "74.98",
         "0.0",
         "0.0",
         "6.0",
         "84.38"
        ],
        [
         "25",
         "plant",
         "3",
         "0.0",
         null,
         "1",
         null,
         "30",
         "30",
         null,
         null,
         null,
         null,
         null
        ],
        [
         "26",
         "plant",
         "3",
         "0.0",
         null,
         "2",
         null,
         "19",
         "19",
         null,
         null,
         null,
         null,
         null
        ],
        [
         "27",
         "plant",
         "3",
         "0.0",
         null,
         "3",
         null,
         "13",
         "13",
         null,
         null,
         null,
         null,
         null
        ],
        [
         "28",
         "truck",
         "4",
         "0.0",
         "1.0",
         "1",
         "15.0",
         "29",
         "29",
         "134.11",
         "0.0",
         "0.0",
         "10.0",
         "72.06"
        ],
        [
         "29",
         "truck",
         "4",
         "0.0",
         "2.0",
         "2",
         "17.0",
         "20",
         "20",
         "36.66",
         "0.0",
         "0.0",
         "3.0",
         "92.36"
        ],
        [
         "30",
         "truck",
         "4",
         "0.0",
         "3.0",
         "3",
         "15.0",
         "13",
         "13",
         "109.09",
         "3.97",
         "2.0",
         "10.0",
         "76.45"
        ],
        [
         "31",
         "truck",
         "4",
         "0.0",
         "4.0",
         "1",
         "15.0",
         "29",
         "29",
         "110.18",
         "0.0",
         "0.0",
         "10.0",
         "77.05"
        ],
        [
         "32",
         "plant",
         "4",
         "0.0",
         null,
         "1",
         null,
         "29",
         "29",
         null,
         null,
         null,
         null,
         null
        ],
        [
         "33",
         "plant",
         "4",
         "0.0",
         null,
         "2",
         null,
         "20",
         "20",
         null,
         null,
         null,
         null,
         null
        ],
        [
         "34",
         "plant",
         "4",
         "0.0",
         null,
         "3",
         null,
         "13",
         "13",
         null,
         null,
         null,
         null,
         null
        ],
        [
         "35",
         "truck",
         "5",
         "0.0",
         "1.0",
         "1",
         "16.0",
         "29",
         "29",
         "87.09",
         "0.0",
         "0.0",
         "8.0",
         "81.86"
        ],
        [
         "36",
         "truck",
         "5",
         "0.0",
         "2.0",
         "2",
         "16.0",
         "20",
         "20",
         "66.66",
         "0.0",
         "0.0",
         "5.0",
         "86.11"
        ],
        [
         "37",
         "truck",
         "5",
         "0.0",
         "3.0",
         "3",
         "15.0",
         "13",
         "13",
         "105.52",
         "2.15",
         "1.0",
         "9.0",
         "77.57"
        ],
        [
         "38",
         "truck",
         "5",
         "0.0",
         "4.0",
         "1",
         "15.0",
         "29",
         "29",
         "113.82",
         "0.0",
         "0.0",
         "9.0",
         "76.29"
        ],
        [
         "39",
         "plant",
         "5",
         "0.0",
         null,
         "1",
         null,
         "29",
         "29",
         null,
         null,
         null,
         null,
         null
        ],
        [
         "40",
         "plant",
         "5",
         "0.0",
         null,
         "2",
         null,
         "20",
         "20",
         null,
         null,
         null,
         null,
         null
        ],
        [
         "41",
         "plant",
         "5",
         "0.0",
         null,
         "3",
         null,
         "13",
         "13",
         null,
         null,
         null,
         null,
         null
        ],
        [
         "42",
         "truck",
         "6",
         "0.0",
         "1.0",
         "1",
         "15.0",
         "28",
         "29",
         "131.42",
         "0.0",
         "0.0",
         "10.0",
         "72.62"
        ],
        [
         "43",
         "truck",
         "6",
         "0.0",
         "2.0",
         "2",
         "16.0",
         "21",
         "22",
         "66.26",
         "0.0",
         "0.0",
         "5.0",
         "86.2"
        ],
        [
         "44",
         "truck",
         "6",
         "0.0",
         "3.0",
         "3",
         "16.0",
         "13",
         "12",
         "74.38",
         "4.05",
         "2.0",
         "6.0",
         "83.66"
        ],
        [
         "45",
         "truck",
         "6",
         "0.0",
         "4.0",
         "1",
         "16.0",
         "28",
         "29",
         "85.96",
         "0.0",
         "0.0",
         "9.0",
         "82.09"
        ],
        [
         "46",
         "plant",
         "6",
         "0.0",
         null,
         "1",
         null,
         "28",
         "29",
         null,
         null,
         null,
         null,
         null
        ],
        [
         "47",
         "plant",
         "6",
         "0.0",
         null,
         "2",
         null,
         "21",
         "22",
         null,
         null,
         null,
         null,
         null
        ],
        [
         "48",
         "plant",
         "6",
         "0.0",
         null,
         "3",
         null,
         "13",
         "12",
         null,
         null,
         null,
         null,
         null
        ],
        [
         "49",
         "truck",
         "7",
         "0.0",
         "1.0",
         "1",
         "15.0",
         "29",
         "30",
         "125.92",
         "0.0",
         "0.0",
         "10.0",
         "73.77"
        ]
       ],
       "shape": {
        "columns": 13,
        "rows": 2800
       }
      },
      "text/html": [
       "<div>\n",
       "<style scoped>\n",
       "    .dataframe tbody tr th:only-of-type {\n",
       "        vertical-align: middle;\n",
       "    }\n",
       "\n",
       "    .dataframe tbody tr th {\n",
       "        vertical-align: top;\n",
       "    }\n",
       "\n",
       "    .dataframe thead th {\n",
       "        text-align: right;\n",
       "    }\n",
       "</style>\n",
       "<table border=\"1\" class=\"dataframe\">\n",
       "  <thead>\n",
       "    <tr style=\"text-align: right;\">\n",
       "      <th></th>\n",
       "      <th>entity</th>\n",
       "      <th>iter</th>\n",
       "      <th>beta</th>\n",
       "      <th>truck</th>\n",
       "      <th>plant</th>\n",
       "      <th>trips</th>\n",
       "      <th>delivered</th>\n",
       "      <th>selected</th>\n",
       "      <th>wait_pl</th>\n",
       "      <th>wait_cd</th>\n",
       "      <th>no_empty</th>\n",
       "      <th>no_full</th>\n",
       "      <th>util_%</th>\n",
       "    </tr>\n",
       "  </thead>\n",
       "  <tbody>\n",
       "    <tr>\n",
       "      <th>0</th>\n",
       "      <td>truck</td>\n",
       "      <td>0</td>\n",
       "      <td>0.0</td>\n",
       "      <td>1.0</td>\n",
       "      <td>1</td>\n",
       "      <td>15.0</td>\n",
       "      <td>30</td>\n",
       "      <td>30</td>\n",
       "      <td>119.43</td>\n",
       "      <td>0.00</td>\n",
       "      <td>0.0</td>\n",
       "      <td>11.0</td>\n",
       "      <td>75.12</td>\n",
       "    </tr>\n",
       "    <tr>\n",
       "      <th>1</th>\n",
       "      <td>truck</td>\n",
       "      <td>0</td>\n",
       "      <td>0.0</td>\n",
       "      <td>2.0</td>\n",
       "      <td>2</td>\n",
       "      <td>16.0</td>\n",
       "      <td>22</td>\n",
       "      <td>21</td>\n",
       "      <td>86.57</td>\n",
       "      <td>0.00</td>\n",
       "      <td>0.0</td>\n",
       "      <td>8.0</td>\n",
       "      <td>81.96</td>\n",
       "    </tr>\n",
       "    <tr>\n",
       "      <th>2</th>\n",
       "      <td>truck</td>\n",
       "      <td>0</td>\n",
       "      <td>0.0</td>\n",
       "      <td>3.0</td>\n",
       "      <td>3</td>\n",
       "      <td>16.0</td>\n",
       "      <td>11</td>\n",
       "      <td>12</td>\n",
       "      <td>84.16</td>\n",
       "      <td>1.81</td>\n",
       "      <td>3.0</td>\n",
       "      <td>8.0</td>\n",
       "      <td>82.09</td>\n",
       "    </tr>\n",
       "    <tr>\n",
       "      <th>3</th>\n",
       "      <td>truck</td>\n",
       "      <td>0</td>\n",
       "      <td>0.0</td>\n",
       "      <td>4.0</td>\n",
       "      <td>1</td>\n",
       "      <td>16.0</td>\n",
       "      <td>30</td>\n",
       "      <td>30</td>\n",
       "      <td>72.12</td>\n",
       "      <td>0.00</td>\n",
       "      <td>0.0</td>\n",
       "      <td>6.0</td>\n",
       "      <td>84.98</td>\n",
       "    </tr>\n",
       "    <tr>\n",
       "      <th>4</th>\n",
       "      <td>plant</td>\n",
       "      <td>0</td>\n",
       "      <td>0.0</td>\n",
       "      <td>NaN</td>\n",
       "      <td>1</td>\n",
       "      <td>NaN</td>\n",
       "      <td>30</td>\n",
       "      <td>30</td>\n",
       "      <td>NaN</td>\n",
       "      <td>NaN</td>\n",
       "      <td>NaN</td>\n",
       "      <td>NaN</td>\n",
       "      <td>NaN</td>\n",
       "    </tr>\n",
       "    <tr>\n",
       "      <th>...</th>\n",
       "      <td>...</td>\n",
       "      <td>...</td>\n",
       "      <td>...</td>\n",
       "      <td>...</td>\n",
       "      <td>...</td>\n",
       "      <td>...</td>\n",
       "      <td>...</td>\n",
       "      <td>...</td>\n",
       "      <td>...</td>\n",
       "      <td>...</td>\n",
       "      <td>...</td>\n",
       "      <td>...</td>\n",
       "      <td>...</td>\n",
       "    </tr>\n",
       "    <tr>\n",
       "      <th>2795</th>\n",
       "      <td>truck</td>\n",
       "      <td>99</td>\n",
       "      <td>2.0</td>\n",
       "      <td>3.0</td>\n",
       "      <td>3</td>\n",
       "      <td>16.0</td>\n",
       "      <td>20</td>\n",
       "      <td>21</td>\n",
       "      <td>57.69</td>\n",
       "      <td>3.45</td>\n",
       "      <td>2.0</td>\n",
       "      <td>4.0</td>\n",
       "      <td>87.26</td>\n",
       "    </tr>\n",
       "    <tr>\n",
       "      <th>2796</th>\n",
       "      <td>truck</td>\n",
       "      <td>99</td>\n",
       "      <td>2.0</td>\n",
       "      <td>4.0</td>\n",
       "      <td>1</td>\n",
       "      <td>16.0</td>\n",
       "      <td>22</td>\n",
       "      <td>22</td>\n",
       "      <td>58.25</td>\n",
       "      <td>0.00</td>\n",
       "      <td>0.0</td>\n",
       "      <td>5.0</td>\n",
       "      <td>87.86</td>\n",
       "    </tr>\n",
       "    <tr>\n",
       "      <th>2797</th>\n",
       "      <td>plant</td>\n",
       "      <td>99</td>\n",
       "      <td>2.0</td>\n",
       "      <td>NaN</td>\n",
       "      <td>1</td>\n",
       "      <td>NaN</td>\n",
       "      <td>22</td>\n",
       "      <td>22</td>\n",
       "      <td>NaN</td>\n",
       "      <td>NaN</td>\n",
       "      <td>NaN</td>\n",
       "      <td>NaN</td>\n",
       "      <td>NaN</td>\n",
       "    </tr>\n",
       "    <tr>\n",
       "      <th>2798</th>\n",
       "      <td>plant</td>\n",
       "      <td>99</td>\n",
       "      <td>2.0</td>\n",
       "      <td>NaN</td>\n",
       "      <td>2</td>\n",
       "      <td>NaN</td>\n",
       "      <td>21</td>\n",
       "      <td>21</td>\n",
       "      <td>NaN</td>\n",
       "      <td>NaN</td>\n",
       "      <td>NaN</td>\n",
       "      <td>NaN</td>\n",
       "      <td>NaN</td>\n",
       "    </tr>\n",
       "    <tr>\n",
       "      <th>2799</th>\n",
       "      <td>plant</td>\n",
       "      <td>99</td>\n",
       "      <td>2.0</td>\n",
       "      <td>NaN</td>\n",
       "      <td>3</td>\n",
       "      <td>NaN</td>\n",
       "      <td>20</td>\n",
       "      <td>21</td>\n",
       "      <td>NaN</td>\n",
       "      <td>NaN</td>\n",
       "      <td>NaN</td>\n",
       "      <td>NaN</td>\n",
       "      <td>NaN</td>\n",
       "    </tr>\n",
       "  </tbody>\n",
       "</table>\n",
       "<p>2800 rows × 13 columns</p>\n",
       "</div>"
      ],
      "text/plain": [
       "     entity  iter  beta  truck  plant  trips  delivered  selected  wait_pl  \\\n",
       "0     truck     0   0.0    1.0      1   15.0         30        30   119.43   \n",
       "1     truck     0   0.0    2.0      2   16.0         22        21    86.57   \n",
       "2     truck     0   0.0    3.0      3   16.0         11        12    84.16   \n",
       "3     truck     0   0.0    4.0      1   16.0         30        30    72.12   \n",
       "4     plant     0   0.0    NaN      1    NaN         30        30      NaN   \n",
       "...     ...   ...   ...    ...    ...    ...        ...       ...      ...   \n",
       "2795  truck    99   2.0    3.0      3   16.0         20        21    57.69   \n",
       "2796  truck    99   2.0    4.0      1   16.0         22        22    58.25   \n",
       "2797  plant    99   2.0    NaN      1    NaN         22        22      NaN   \n",
       "2798  plant    99   2.0    NaN      2    NaN         21        21      NaN   \n",
       "2799  plant    99   2.0    NaN      3    NaN         20        21      NaN   \n",
       "\n",
       "      wait_cd  no_empty  no_full  util_%  \n",
       "0        0.00       0.0     11.0   75.12  \n",
       "1        0.00       0.0      8.0   81.96  \n",
       "2        1.81       3.0      8.0   82.09  \n",
       "3        0.00       0.0      6.0   84.98  \n",
       "4         NaN       NaN      NaN     NaN  \n",
       "...       ...       ...      ...     ...  \n",
       "2795     3.45       2.0      4.0   87.26  \n",
       "2796     0.00       0.0      5.0   87.86  \n",
       "2797      NaN       NaN      NaN     NaN  \n",
       "2798      NaN       NaN      NaN     NaN  \n",
       "2799      NaN       NaN      NaN     NaN  \n",
       "\n",
       "[2800 rows x 13 columns]"
      ]
     },
     "execution_count": 210,
     "metadata": {},
     "output_type": "execute_result"
    }
   ],
   "source": [
    "trucks4 = pd.read_csv('sim_results_4trucks.csv')\n",
    "trucks4"
   ]
  },
  {
   "cell_type": "code",
   "execution_count": 211,
   "id": "6182b29b",
   "metadata": {},
   "outputs": [],
   "source": [
    "beta2 = trucks4[trucks4['beta'] == 2]\n",
    "beta2_truck =  beta2[beta2['entity'] == 'truck']\n",
    "beta2_planta = beta2[beta2['entity'] == 'plant']"
   ]
  },
  {
   "cell_type": "code",
   "execution_count": 216,
   "id": "4900d2be",
   "metadata": {},
   "outputs": [
    {
     "data": {
      "application/vnd.microsoft.datawrangler.viewer.v0+json": {
       "columns": [
        {
         "name": "index",
         "rawType": "int64",
         "type": "integer"
        },
        {
         "name": "entity",
         "rawType": "object",
         "type": "string"
        },
        {
         "name": "iter",
         "rawType": "int64",
         "type": "integer"
        },
        {
         "name": "beta",
         "rawType": "float64",
         "type": "float"
        },
        {
         "name": "truck",
         "rawType": "float64",
         "type": "float"
        },
        {
         "name": "plant",
         "rawType": "int64",
         "type": "integer"
        },
        {
         "name": "trips",
         "rawType": "float64",
         "type": "float"
        },
        {
         "name": "delivered",
         "rawType": "int64",
         "type": "integer"
        },
        {
         "name": "selected",
         "rawType": "int64",
         "type": "integer"
        },
        {
         "name": "wait_pl",
         "rawType": "float64",
         "type": "float"
        },
        {
         "name": "wait_cd",
         "rawType": "float64",
         "type": "float"
        },
        {
         "name": "no_empty",
         "rawType": "float64",
         "type": "float"
        },
        {
         "name": "no_full",
         "rawType": "float64",
         "type": "float"
        },
        {
         "name": "util_%",
         "rawType": "float64",
         "type": "float"
        }
       ],
       "ref": "931b882e-ce5a-4452-bfb4-2a3b3a26c9c9",
       "rows": [
        [
         "2100",
         "truck",
         "0",
         "2.0",
         "1.0",
         "1",
         "16.0",
         "22",
         "23",
         "65.6",
         "0.0",
         "0.0",
         "6.0",
         "86.33"
        ],
        [
         "2101",
         "truck",
         "0",
         "2.0",
         "2.0",
         "2",
         "16.0",
         "21",
         "21",
         "100.06",
         "0.0",
         "0.0",
         "9.0",
         "79.15"
        ],
        [
         "2102",
         "truck",
         "0",
         "2.0",
         "3.0",
         "3",
         "16.0",
         "20",
         "21",
         "61.55",
         "1.81",
         "3.0",
         "4.0",
         "86.8"
        ],
        [
         "2103",
         "truck",
         "0",
         "2.0",
         "4.0",
         "1",
         "17.0",
         "22",
         "23",
         "55.57",
         "0.0",
         "0.0",
         "6.0",
         "88.42"
        ],
        [
         "2107",
         "truck",
         "1",
         "2.0",
         "1.0",
         "1",
         "16.0",
         "22",
         "22",
         "100.06",
         "0.0",
         "0.0",
         "8.0",
         "79.15"
        ],
        [
         "2108",
         "truck",
         "1",
         "2.0",
         "2.0",
         "2",
         "16.0",
         "21",
         "22",
         "81.79",
         "0.0",
         "0.0",
         "6.0",
         "82.96"
        ],
        [
         "2109",
         "truck",
         "1",
         "2.0",
         "3.0",
         "3",
         "16.0",
         "20",
         "21",
         "60.15",
         "2.92",
         "3.0",
         "5.0",
         "86.86"
        ],
        [
         "2110",
         "truck",
         "1",
         "2.0",
         "4.0",
         "1",
         "17.0",
         "22",
         "22",
         "37.7",
         "0.0",
         "0.0",
         "5.0",
         "92.15"
        ],
        [
         "2114",
         "truck",
         "2",
         "2.0",
         "1.0",
         "1",
         "17.0",
         "22",
         "22",
         "62.9",
         "0.0",
         "0.0",
         "6.0",
         "86.9"
        ],
        [
         "2115",
         "truck",
         "2",
         "2.0",
         "2.0",
         "2",
         "15.0",
         "21",
         "22",
         "97.42",
         "5.8",
         "3.0",
         "7.0",
         "78.5"
        ],
        [
         "2116",
         "truck",
         "2",
         "2.0",
         "3.0",
         "3",
         "17.0",
         "20",
         "21",
         "32.84",
         "0.0",
         "0.0",
         "4.0",
         "93.16"
        ],
        [
         "2117",
         "truck",
         "2",
         "2.0",
         "4.0",
         "1",
         "16.0",
         "22",
         "22",
         "71.12",
         "0.0",
         "0.0",
         "6.0",
         "85.18"
        ],
        [
         "2121",
         "truck",
         "3",
         "2.0",
         "1.0",
         "1",
         "16.0",
         "22",
         "22",
         "65.16",
         "0.0",
         "0.0",
         "6.0",
         "86.42"
        ],
        [
         "2122",
         "truck",
         "3",
         "2.0",
         "2.0",
         "2",
         "16.0",
         "21",
         "21",
         "65.28",
         "4.53",
         "2.0",
         "5.0",
         "85.46"
        ],
        [
         "2123",
         "truck",
         "3",
         "2.0",
         "3.0",
         "3",
         "16.0",
         "20",
         "21",
         "94.8",
         "0.0",
         "0.0",
         "5.0",
         "80.25"
        ],
        [
         "2124",
         "truck",
         "3",
         "2.0",
         "4.0",
         "1",
         "16.0",
         "22",
         "22",
         "78.22",
         "0.0",
         "0.0",
         "6.0",
         "83.7"
        ],
        [
         "2128",
         "truck",
         "4",
         "2.0",
         "1.0",
         "1",
         "17.0",
         "23",
         "23",
         "66.71",
         "0.0",
         "0.0",
         "5.0",
         "86.1"
        ],
        [
         "2129",
         "truck",
         "4",
         "2.0",
         "2.0",
         "2",
         "16.0",
         "21",
         "22",
         "82.12",
         "0.0",
         "0.0",
         "7.0",
         "82.89"
        ],
        [
         "2130",
         "truck",
         "4",
         "2.0",
         "3.0",
         "3",
         "17.0",
         "20",
         "21",
         "51.58",
         "3.97",
         "2.0",
         "4.0",
         "88.43"
        ],
        [
         "2131",
         "truck",
         "4",
         "2.0",
         "4.0",
         "1",
         "16.0",
         "23",
         "23",
         "86.58",
         "0.0",
         "0.0",
         "7.0",
         "81.96"
        ],
        [
         "2135",
         "truck",
         "5",
         "2.0",
         "1.0",
         "1",
         "16.0",
         "22",
         "22",
         "56.76",
         "0.0",
         "0.0",
         "4.0",
         "88.18"
        ],
        [
         "2136",
         "truck",
         "5",
         "2.0",
         "2.0",
         "2",
         "15.0",
         "21",
         "21",
         "103.17",
         "0.0",
         "0.0",
         "8.0",
         "78.51"
        ],
        [
         "2137",
         "truck",
         "5",
         "2.0",
         "3.0",
         "3",
         "16.0",
         "20",
         "21",
         "96.87",
         "2.15",
         "1.0",
         "7.0",
         "79.37"
        ],
        [
         "2138",
         "truck",
         "5",
         "2.0",
         "4.0",
         "1",
         "17.0",
         "22",
         "22",
         "26.19",
         "0.0",
         "0.0",
         "2.0",
         "94.54"
        ],
        [
         "2142",
         "truck",
         "6",
         "2.0",
         "1.0",
         "1",
         "15.0",
         "22",
         "22",
         "101.18",
         "0.0",
         "0.0",
         "5.0",
         "78.92"
        ],
        [
         "2143",
         "truck",
         "6",
         "2.0",
         "2.0",
         "2",
         "16.0",
         "21",
         "21",
         "82.55",
         "0.0",
         "0.0",
         "7.0",
         "82.8"
        ],
        [
         "2144",
         "truck",
         "6",
         "2.0",
         "3.0",
         "3",
         "16.0",
         "20",
         "20",
         "80.01",
         "4.05",
         "2.0",
         "6.0",
         "82.49"
        ],
        [
         "2145",
         "truck",
         "6",
         "2.0",
         "4.0",
         "1",
         "16.0",
         "22",
         "22",
         "49.01",
         "0.0",
         "0.0",
         "5.0",
         "89.79"
        ],
        [
         "2149",
         "truck",
         "7",
         "2.0",
         "1.0",
         "1",
         "16.0",
         "23",
         "23",
         "81.68",
         "0.0",
         "0.0",
         "8.0",
         "82.98"
        ],
        [
         "2150",
         "truck",
         "7",
         "2.0",
         "2.0",
         "2",
         "16.0",
         "21",
         "22",
         "90.04",
         "0.0",
         "0.0",
         "7.0",
         "81.24"
        ],
        [
         "2151",
         "truck",
         "7",
         "2.0",
         "3.0",
         "3",
         "17.0",
         "21",
         "21",
         "41.06",
         "5.49",
         "3.0",
         "4.0",
         "90.3"
        ],
        [
         "2152",
         "truck",
         "7",
         "2.0",
         "4.0",
         "1",
         "17.0",
         "23",
         "23",
         "33.84",
         "0.0",
         "0.0",
         "3.0",
         "92.95"
        ],
        [
         "2156",
         "truck",
         "8",
         "2.0",
         "1.0",
         "1",
         "16.0",
         "22",
         "22",
         "86.54",
         "0.0",
         "0.0",
         "7.0",
         "81.97"
        ],
        [
         "2157",
         "truck",
         "8",
         "2.0",
         "2.0",
         "2",
         "17.0",
         "21",
         "22",
         "50.14",
         "1.45",
         "1.0",
         "3.0",
         "89.25"
        ],
        [
         "2158",
         "truck",
         "8",
         "2.0",
         "3.0",
         "3",
         "16.0",
         "21",
         "21",
         "78.18",
         "0.0",
         "0.0",
         "6.0",
         "83.71"
        ],
        [
         "2159",
         "truck",
         "8",
         "2.0",
         "4.0",
         "1",
         "16.0",
         "22",
         "22",
         "74.66",
         "0.0",
         "0.0",
         "7.0",
         "84.45"
        ],
        [
         "2163",
         "truck",
         "9",
         "2.0",
         "1.0",
         "1",
         "16.0",
         "21",
         "21",
         "85.36",
         "0.0",
         "0.0",
         "5.0",
         "82.22"
        ],
        [
         "2164",
         "truck",
         "9",
         "2.0",
         "2.0",
         "2",
         "15.0",
         "21",
         "21",
         "91.74",
         "1.55",
         "1.0",
         "6.0",
         "80.57"
        ],
        [
         "2165",
         "truck",
         "9",
         "2.0",
         "3.0",
         "3",
         "16.0",
         "20",
         "21",
         "86.7",
         "0.0",
         "0.0",
         "6.0",
         "81.94"
        ],
        [
         "2166",
         "truck",
         "9",
         "2.0",
         "4.0",
         "1",
         "16.0",
         "21",
         "21",
         "58.65",
         "0.0",
         "0.0",
         "4.0",
         "87.78"
        ],
        [
         "2170",
         "truck",
         "10",
         "2.0",
         "1.0",
         "1",
         "17.0",
         "23",
         "23",
         "59.96",
         "0.0",
         "0.0",
         "5.0",
         "87.51"
        ],
        [
         "2171",
         "truck",
         "10",
         "2.0",
         "2.0",
         "2",
         "16.0",
         "21",
         "22",
         "67.81",
         "0.0",
         "0.0",
         "6.0",
         "85.87"
        ],
        [
         "2172",
         "truck",
         "10",
         "2.0",
         "3.0",
         "3",
         "16.0",
         "21",
         "21",
         "71.51",
         "3.07",
         "1.0",
         "6.0",
         "84.46"
        ],
        [
         "2173",
         "truck",
         "10",
         "2.0",
         "4.0",
         "1",
         "17.0",
         "23",
         "23",
         "54.82",
         "0.0",
         "0.0",
         "6.0",
         "88.58"
        ],
        [
         "2177",
         "truck",
         "11",
         "2.0",
         "1.0",
         "1",
         "16.0",
         "22",
         "22",
         "81.09",
         "0.0",
         "0.0",
         "6.0",
         "83.11"
        ],
        [
         "2178",
         "truck",
         "11",
         "2.0",
         "2.0",
         "2",
         "16.0",
         "21",
         "21",
         "85.14",
         "4.86",
         "3.0",
         "6.0",
         "81.25"
        ],
        [
         "2179",
         "truck",
         "11",
         "2.0",
         "3.0",
         "3",
         "16.0",
         "20",
         "21",
         "70.36",
         "0.0",
         "0.0",
         "5.0",
         "85.34"
        ],
        [
         "2180",
         "truck",
         "11",
         "2.0",
         "4.0",
         "1",
         "16.0",
         "22",
         "22",
         "54.26",
         "0.0",
         "0.0",
         "5.0",
         "88.7"
        ],
        [
         "2184",
         "truck",
         "12",
         "2.0",
         "1.0",
         "1",
         "17.0",
         "23",
         "23",
         "64.84",
         "0.0",
         "0.0",
         "6.0",
         "86.49"
        ],
        [
         "2185",
         "truck",
         "12",
         "2.0",
         "2.0",
         "2",
         "16.0",
         "21",
         "22",
         "77.55",
         "0.0",
         "0.0",
         "6.0",
         "83.84"
        ]
       ],
       "shape": {
        "columns": 13,
        "rows": 400
       }
      },
      "text/html": [
       "<div>\n",
       "<style scoped>\n",
       "    .dataframe tbody tr th:only-of-type {\n",
       "        vertical-align: middle;\n",
       "    }\n",
       "\n",
       "    .dataframe tbody tr th {\n",
       "        vertical-align: top;\n",
       "    }\n",
       "\n",
       "    .dataframe thead th {\n",
       "        text-align: right;\n",
       "    }\n",
       "</style>\n",
       "<table border=\"1\" class=\"dataframe\">\n",
       "  <thead>\n",
       "    <tr style=\"text-align: right;\">\n",
       "      <th></th>\n",
       "      <th>entity</th>\n",
       "      <th>iter</th>\n",
       "      <th>beta</th>\n",
       "      <th>truck</th>\n",
       "      <th>plant</th>\n",
       "      <th>trips</th>\n",
       "      <th>delivered</th>\n",
       "      <th>selected</th>\n",
       "      <th>wait_pl</th>\n",
       "      <th>wait_cd</th>\n",
       "      <th>no_empty</th>\n",
       "      <th>no_full</th>\n",
       "      <th>util_%</th>\n",
       "    </tr>\n",
       "  </thead>\n",
       "  <tbody>\n",
       "    <tr>\n",
       "      <th>2100</th>\n",
       "      <td>truck</td>\n",
       "      <td>0</td>\n",
       "      <td>2.0</td>\n",
       "      <td>1.0</td>\n",
       "      <td>1</td>\n",
       "      <td>16.0</td>\n",
       "      <td>22</td>\n",
       "      <td>23</td>\n",
       "      <td>65.60</td>\n",
       "      <td>0.00</td>\n",
       "      <td>0.0</td>\n",
       "      <td>6.0</td>\n",
       "      <td>86.33</td>\n",
       "    </tr>\n",
       "    <tr>\n",
       "      <th>2101</th>\n",
       "      <td>truck</td>\n",
       "      <td>0</td>\n",
       "      <td>2.0</td>\n",
       "      <td>2.0</td>\n",
       "      <td>2</td>\n",
       "      <td>16.0</td>\n",
       "      <td>21</td>\n",
       "      <td>21</td>\n",
       "      <td>100.06</td>\n",
       "      <td>0.00</td>\n",
       "      <td>0.0</td>\n",
       "      <td>9.0</td>\n",
       "      <td>79.15</td>\n",
       "    </tr>\n",
       "    <tr>\n",
       "      <th>2102</th>\n",
       "      <td>truck</td>\n",
       "      <td>0</td>\n",
       "      <td>2.0</td>\n",
       "      <td>3.0</td>\n",
       "      <td>3</td>\n",
       "      <td>16.0</td>\n",
       "      <td>20</td>\n",
       "      <td>21</td>\n",
       "      <td>61.55</td>\n",
       "      <td>1.81</td>\n",
       "      <td>3.0</td>\n",
       "      <td>4.0</td>\n",
       "      <td>86.80</td>\n",
       "    </tr>\n",
       "    <tr>\n",
       "      <th>2103</th>\n",
       "      <td>truck</td>\n",
       "      <td>0</td>\n",
       "      <td>2.0</td>\n",
       "      <td>4.0</td>\n",
       "      <td>1</td>\n",
       "      <td>17.0</td>\n",
       "      <td>22</td>\n",
       "      <td>23</td>\n",
       "      <td>55.57</td>\n",
       "      <td>0.00</td>\n",
       "      <td>0.0</td>\n",
       "      <td>6.0</td>\n",
       "      <td>88.42</td>\n",
       "    </tr>\n",
       "    <tr>\n",
       "      <th>2107</th>\n",
       "      <td>truck</td>\n",
       "      <td>1</td>\n",
       "      <td>2.0</td>\n",
       "      <td>1.0</td>\n",
       "      <td>1</td>\n",
       "      <td>16.0</td>\n",
       "      <td>22</td>\n",
       "      <td>22</td>\n",
       "      <td>100.06</td>\n",
       "      <td>0.00</td>\n",
       "      <td>0.0</td>\n",
       "      <td>8.0</td>\n",
       "      <td>79.15</td>\n",
       "    </tr>\n",
       "    <tr>\n",
       "      <th>...</th>\n",
       "      <td>...</td>\n",
       "      <td>...</td>\n",
       "      <td>...</td>\n",
       "      <td>...</td>\n",
       "      <td>...</td>\n",
       "      <td>...</td>\n",
       "      <td>...</td>\n",
       "      <td>...</td>\n",
       "      <td>...</td>\n",
       "      <td>...</td>\n",
       "      <td>...</td>\n",
       "      <td>...</td>\n",
       "      <td>...</td>\n",
       "    </tr>\n",
       "    <tr>\n",
       "      <th>2789</th>\n",
       "      <td>truck</td>\n",
       "      <td>98</td>\n",
       "      <td>2.0</td>\n",
       "      <td>4.0</td>\n",
       "      <td>1</td>\n",
       "      <td>16.0</td>\n",
       "      <td>23</td>\n",
       "      <td>23</td>\n",
       "      <td>79.55</td>\n",
       "      <td>0.00</td>\n",
       "      <td>0.0</td>\n",
       "      <td>8.0</td>\n",
       "      <td>83.43</td>\n",
       "    </tr>\n",
       "    <tr>\n",
       "      <th>2793</th>\n",
       "      <td>truck</td>\n",
       "      <td>99</td>\n",
       "      <td>2.0</td>\n",
       "      <td>1.0</td>\n",
       "      <td>1</td>\n",
       "      <td>16.0</td>\n",
       "      <td>22</td>\n",
       "      <td>22</td>\n",
       "      <td>73.52</td>\n",
       "      <td>0.00</td>\n",
       "      <td>0.0</td>\n",
       "      <td>6.0</td>\n",
       "      <td>84.68</td>\n",
       "    </tr>\n",
       "    <tr>\n",
       "      <th>2794</th>\n",
       "      <td>truck</td>\n",
       "      <td>99</td>\n",
       "      <td>2.0</td>\n",
       "      <td>2.0</td>\n",
       "      <td>2</td>\n",
       "      <td>16.0</td>\n",
       "      <td>21</td>\n",
       "      <td>21</td>\n",
       "      <td>78.94</td>\n",
       "      <td>0.00</td>\n",
       "      <td>0.0</td>\n",
       "      <td>6.0</td>\n",
       "      <td>83.56</td>\n",
       "    </tr>\n",
       "    <tr>\n",
       "      <th>2795</th>\n",
       "      <td>truck</td>\n",
       "      <td>99</td>\n",
       "      <td>2.0</td>\n",
       "      <td>3.0</td>\n",
       "      <td>3</td>\n",
       "      <td>16.0</td>\n",
       "      <td>20</td>\n",
       "      <td>21</td>\n",
       "      <td>57.69</td>\n",
       "      <td>3.45</td>\n",
       "      <td>2.0</td>\n",
       "      <td>4.0</td>\n",
       "      <td>87.26</td>\n",
       "    </tr>\n",
       "    <tr>\n",
       "      <th>2796</th>\n",
       "      <td>truck</td>\n",
       "      <td>99</td>\n",
       "      <td>2.0</td>\n",
       "      <td>4.0</td>\n",
       "      <td>1</td>\n",
       "      <td>16.0</td>\n",
       "      <td>22</td>\n",
       "      <td>22</td>\n",
       "      <td>58.25</td>\n",
       "      <td>0.00</td>\n",
       "      <td>0.0</td>\n",
       "      <td>5.0</td>\n",
       "      <td>87.86</td>\n",
       "    </tr>\n",
       "  </tbody>\n",
       "</table>\n",
       "<p>400 rows × 13 columns</p>\n",
       "</div>"
      ],
      "text/plain": [
       "     entity  iter  beta  truck  plant  trips  delivered  selected  wait_pl  \\\n",
       "2100  truck     0   2.0    1.0      1   16.0         22        23    65.60   \n",
       "2101  truck     0   2.0    2.0      2   16.0         21        21   100.06   \n",
       "2102  truck     0   2.0    3.0      3   16.0         20        21    61.55   \n",
       "2103  truck     0   2.0    4.0      1   17.0         22        23    55.57   \n",
       "2107  truck     1   2.0    1.0      1   16.0         22        22   100.06   \n",
       "...     ...   ...   ...    ...    ...    ...        ...       ...      ...   \n",
       "2789  truck    98   2.0    4.0      1   16.0         23        23    79.55   \n",
       "2793  truck    99   2.0    1.0      1   16.0         22        22    73.52   \n",
       "2794  truck    99   2.0    2.0      2   16.0         21        21    78.94   \n",
       "2795  truck    99   2.0    3.0      3   16.0         20        21    57.69   \n",
       "2796  truck    99   2.0    4.0      1   16.0         22        22    58.25   \n",
       "\n",
       "      wait_cd  no_empty  no_full  util_%  \n",
       "2100     0.00       0.0      6.0   86.33  \n",
       "2101     0.00       0.0      9.0   79.15  \n",
       "2102     1.81       3.0      4.0   86.80  \n",
       "2103     0.00       0.0      6.0   88.42  \n",
       "2107     0.00       0.0      8.0   79.15  \n",
       "...       ...       ...      ...     ...  \n",
       "2789     0.00       0.0      8.0   83.43  \n",
       "2793     0.00       0.0      6.0   84.68  \n",
       "2794     0.00       0.0      6.0   83.56  \n",
       "2795     3.45       2.0      4.0   87.26  \n",
       "2796     0.00       0.0      5.0   87.86  \n",
       "\n",
       "[400 rows x 13 columns]"
      ]
     },
     "execution_count": 216,
     "metadata": {},
     "output_type": "execute_result"
    }
   ],
   "source": [
    "beta2_truck"
   ]
  },
  {
   "cell_type": "markdown",
   "id": "c7e18c6c",
   "metadata": {},
   "source": [
    "## Cantidad de semiacoplados entregados totales"
   ]
  },
  {
   "cell_type": "code",
   "execution_count": 194,
   "id": "85ffe041",
   "metadata": {},
   "outputs": [],
   "source": [
    "simu2_mean = beta2_truck.groupby('iter').agg({'delivered': ['sum']\n",
    "                                    }).reset_index()\n",
    "simu2_mean.columns = ['iter', 'delivered_sum']"
   ]
  },
  {
   "cell_type": "code",
   "execution_count": 195,
   "id": "ea71ecd7",
   "metadata": {},
   "outputs": [
    {
     "name": "stdout",
     "output_type": "stream",
     "text": [
      "Beta2 - 4 camiones - Mean Delivered: 85.72, Std Dev: 1.287704087972783\n"
     ]
    }
   ],
   "source": [
    "print(f\"Beta2 - 4 camiones - Mean Delivered: {simu2_mean.delivered_sum.mean()}, Std Dev: {simu2_mean.delivered_sum.std()}\")"
   ]
  },
  {
   "cell_type": "code",
   "execution_count": null,
   "id": "19abcbbd",
   "metadata": {},
   "outputs": [
    {
     "name": "stdout",
     "output_type": "stream",
     "text": [
      "Beta2 - 4 camiones - 90% Confidence Interval: [85.50817267752848, 85.93182732247152]\n"
     ]
    }
   ],
   "source": [
    "HW = 1.645 * simu2_mean['delivered_sum'].std() / np.sqrt(100)\n",
    "print(f\"Beta2 - 4 camiones - 90% Confidence Interval: [{simu2_mean.delivered_sum.mean() - HW}, {simu2_mean.delivered_sum.mean() + HW}]\")"
   ]
  },
  {
   "cell_type": "markdown",
   "id": "35644388",
   "metadata": {},
   "source": [
    "## Minutos que esperaron por semiacoplados vacíos y llenos"
   ]
  },
  {
   "cell_type": "code",
   "execution_count": 214,
   "id": "bef4b4a1",
   "metadata": {},
   "outputs": [],
   "source": [
    "simu2_mean = beta2_truck.groupby('iter').agg({'wait_cd': ['sum']\n",
    "                                    }).reset_index()\n",
    "simu2_mean.columns = ['iter', 'wait_cd_sum']"
   ]
  },
  {
   "cell_type": "code",
   "execution_count": 215,
   "id": "d32d1808",
   "metadata": {},
   "outputs": [
    {
     "name": "stdout",
     "output_type": "stream",
     "text": [
      "Beta2 - 4 camiones - Mean Wait CD: 3.3237, Std Dev: 1.207580982080634\n"
     ]
    }
   ],
   "source": [
    "print(f\"Beta2 - 4 camiones - Mean Wait CD: {simu2_mean.wait_cd_sum.mean()}, Std Dev: {simu2_mean.wait_cd_sum.std()}\")"
   ]
  },
  {
   "cell_type": "code",
   "execution_count": null,
   "id": "4140f581",
   "metadata": {},
   "outputs": [
    {
     "name": "stdout",
     "output_type": "stream",
     "text": [
      "Beta2 - 4 camiones - 90% Confidence Interval: [0.7812632321119339, 0.8805867678880661]\n"
     ]
    }
   ],
   "source": [
    "HW = 1.645 * simu2_mean['wait_cd_sum'].std() / np.sqrt(100)\n",
    "print(f\"Beta2 - 4 camiones - 90% Confidence Interval: [{simu2_mean.wait_cd_sum.mean() - HW}, {simu2_mean.wait_cd_sum.mean() + HW}]\")"
   ]
  },
  {
   "cell_type": "code",
   "execution_count": 200,
   "id": "cc0c7581",
   "metadata": {},
   "outputs": [],
   "source": [
    "simu2_mean = beta2_truck.groupby('iter').agg({'wait_pl': ['mean']\n",
    "                                    }).reset_index()\n",
    "simu2_mean.columns = ['iter', 'wait_pl_sum']"
   ]
  },
  {
   "cell_type": "code",
   "execution_count": 201,
   "id": "f50bb913",
   "metadata": {},
   "outputs": [
    {
     "name": "stdout",
     "output_type": "stream",
     "text": [
      "Beta2 - 4 camiones - Mean Wait PL: 71.04742499999999, Std Dev: 4.756403796740928\n",
      "Beta2 - 4 camiones - 90% Confidence Interval: [70.2649965754361, 71.82985342456388]\n"
     ]
    }
   ],
   "source": [
    "HW = 1.645 * simu2_mean['wait_pl_sum'].std() / np.sqrt(100)\n",
    "print(f\"Beta2 - 4 camiones - Mean Wait PL: {simu2_mean.wait_pl_sum.mean()}, Std Dev: {simu2_mean.wait_pl_sum.std()}\")\n",
    "print(f\"Beta2 - 4 camiones - 90% Confidence Interval: [{simu2_mean.wait_pl_sum.mean() - HW}, {simu2_mean.wait_pl_sum.mean() + HW}]\")"
   ]
  },
  {
   "cell_type": "markdown",
   "id": "40a345e6",
   "metadata": {},
   "source": [
    "## Utilización promedio de camiones"
   ]
  },
  {
   "cell_type": "code",
   "execution_count": 202,
   "id": "fa67a58f",
   "metadata": {},
   "outputs": [],
   "source": [
    "simu2_mean = beta2_truck.groupby('iter').agg({'util_%': ['mean']\n",
    "                                    }).reset_index()\n",
    "simu2_mean.columns = ['iter', 'util_sum']"
   ]
  },
  {
   "cell_type": "code",
   "execution_count": 203,
   "id": "fb420de7",
   "metadata": {},
   "outputs": [
    {
     "name": "stdout",
     "output_type": "stream",
     "text": [
      "Beta2 - 4 camiones - Mean Util % : 85.02532500000001, Std Dev: 0.9822811303622077\n"
     ]
    }
   ],
   "source": [
    "print(f\"Beta2 - 4 camiones - Mean Util % : {simu2_mean['util_sum'].mean()}, Std Dev: {simu2_mean['util_sum'].std()}\")"
   ]
  },
  {
   "cell_type": "code",
   "execution_count": 204,
   "id": "e75996b2",
   "metadata": {},
   "outputs": [
    {
     "name": "stdout",
     "output_type": "stream",
     "text": [
      "Beta2 - 4 camiones - 90% Confidence Interval: [84.86373975405543, 85.18691024594459]\n"
     ]
    }
   ],
   "source": [
    "HW = 1.645 * simu2_mean['util_sum'].std() / np.sqrt(100)\n",
    "print(f\"Beta2 - 4 camiones - 90% Confidence Interval: [{simu2_mean['util_sum'].mean() - HW}, {simu2_mean['util_sum'].mean() + HW}]\")"
   ]
  }
 ],
 "metadata": {
  "kernelspec": {
   "display_name": "dhdsblend2021",
   "language": "python",
   "name": "python3"
  },
  "language_info": {
   "codemirror_mode": {
    "name": "ipython",
    "version": 3
   },
   "file_extension": ".py",
   "mimetype": "text/x-python",
   "name": "python",
   "nbconvert_exporter": "python",
   "pygments_lexer": "ipython3",
   "version": "3.8.13"
  }
 },
 "nbformat": 4,
 "nbformat_minor": 5
}
